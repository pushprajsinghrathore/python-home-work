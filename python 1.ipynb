{
  "nbformat": 4,
  "nbformat_minor": 0,
  "metadata": {
    "colab": {
      "name": "Untitled0.ipynb",
      "provenance": [],
      "collapsed_sections": []
    },
    "kernelspec": {
      "name": "python3",
      "display_name": "Python 3"
    },
    "language_info": {
      "name": "python"
    }
  },
  "cells": [
    {
      "cell_type": "code",
      "execution_count": null,
      "metadata": {
        "id": "ZCfATMdOfvOW",
        "colab": {
          "base_uri": "https://localhost:8080/"
        },
        "outputId": "123f7898-ed2f-4870-b0bb-421cc2f1f6b7"
      },
      "outputs": [
        {
          "output_type": "stream",
          "name": "stdout",
          "text": [
            " temprature to celsius5\n",
            "41.0\n",
            "temprature to fahrenheite5\n",
            "-15.0\n",
            "temprature to celsius5\n",
            "41.0\n",
            "temprature to fahrenheite45\n",
            "7.222222222222222\n"
          ]
        }
      ],
      "source": [
        "# Write a Python program to convert temperatures to and from celsius, fahrenheit\n",
        "temp=int(input(\" temprature to celsius\"))\n",
        "print((temp/5)*9+32)\n",
        "temp=int(input(\"temprature to fahrenheite\"))\n",
        "print((temp-32)*5/9)\n",
        "\n",
        "\n",
        "\n",
        "\n",
        "\n"
      ]
    },
    {
      "cell_type": "code",
      "source": [
        "# Write a Python program to guess a number between 1 to 9.\n",
        "#Note : User is prompted to enter a guess. If the user guesses wrong then the prompt appears again until the guess is correct, on successful guess, user will get a \"Well guessed!\" message, and the program will exit.\n",
        "num=6\n",
        "n1=int(input(\"guess the number\"))\n",
        "while n1!=num:\n",
        "    n1=int(input(\"guess the number\"))\n",
        "    print(\"wel guess\") \n"
      ],
      "metadata": {
        "colab": {
          "base_uri": "https://localhost:8080/"
        },
        "id": "RaxGsE9Sf6qV",
        "outputId": "a27e9217-c205-4e09-a054-f44bdc1aac19"
      },
      "execution_count": null,
      "outputs": [
        {
          "output_type": "stream",
          "name": "stdout",
          "text": [
            "guess the number7\n",
            "guess the number8\n",
            "wel guess\n",
            "guess the number5\n",
            "wel guess\n",
            "guess the number6\n",
            "wel guess\n"
          ]
        }
      ]
    },
    {
      "cell_type": "code",
      "source": [
        "#Write a Python program to find those numbers which are divisible by 7 and multiple of 5, between 1500 and 2700 (both included)\n",
        "n1=[]\n",
        "for i in range(1500,2701):\n",
        "    if(i%7==0)and(i%5==0):\n",
        "        n1.append(i)\n",
        "print((n1)) "
      ],
      "metadata": {
        "colab": {
          "base_uri": "https://localhost:8080/"
        },
        "id": "vVvg-U6Vf3Qp",
        "outputId": "9a853b7e-3b5b-4c71-86dd-070d0a09b5eb"
      },
      "execution_count": null,
      "outputs": [
        {
          "output_type": "stream",
          "name": "stdout",
          "text": [
            "[1505, 1540, 1575, 1610, 1645, 1680, 1715, 1750, 1785, 1820, 1855, 1890, 1925, 1960, 1995, 2030, 2065, 2100, 2135, 2170, 2205, 2240, 2275, 2310, 2345, 2380, 2415, 2450, 2485, 2520, 2555, 2590, 2625, 2660, 2695]\n"
          ]
        }
      ]
    },
    {
      "cell_type": "code",
      "source": [
        "# Write a Python program to construct the following pattern, using a nested for loop.\n",
        "#* * * * * * * * * * * * * * * * * * * * * * * * *\n",
        "for i in range(5):\n",
        "  for j in range(i+1):\n",
        "      print('*',end=\"\")\n",
        "  print('') \n",
        "for i in range(5,0,-1):\n",
        "  for j in  range(i):\n",
        "    print('*',end=\"\")\n",
        "  print('')\n",
        "\n",
        "   \n"
      ],
      "metadata": {
        "id": "EQCB1BiZgUEu",
        "colab": {
          "base_uri": "https://localhost:8080/"
        },
        "outputId": "bf76343c-3a6e-4c9e-c6bd-63934f5920c0"
      },
      "execution_count": null,
      "outputs": [
        {
          "output_type": "stream",
          "name": "stdout",
          "text": [
            "*\n",
            "**\n",
            "***\n",
            "****\n",
            "*****\n",
            "*****\n",
            "****\n",
            "***\n",
            "**\n",
            "*\n"
          ]
        }
      ]
    },
    {
      "cell_type": "code",
      "source": [
        "#Write a Python program that accepts a word from the user and reverse it.\n",
        "word= input(\"inter the word reverse-\")\n",
        "for i in range(len(word) -1,-1,-1): # -1-1-1 is liye liya he ki word ko reverse print kr wane ke liye\n",
        "  print(word[i],end=\"\")\n",
        "\n",
        "\n",
        "\n",
        "  \n",
        "\n",
        "\n"
      ],
      "metadata": {
        "colab": {
          "base_uri": "https://localhost:8080/"
        },
        "id": "7wWCf5eK_PDD",
        "outputId": "49092572-5a3f-4e2c-b541-693a8822b100"
      },
      "execution_count": null,
      "outputs": [
        {
          "output_type": "stream",
          "name": "stdout",
          "text": [
            "inter the word reverse-jakss\n",
            "sskaj"
          ]
        }
      ]
    },
    {
      "cell_type": "code",
      "source": [
        " #Write a Python program to count the number of even and odd numbers from a series of numbers.\n",
        "#Sample numbers : numbers = (1, 2, 3, 4, 5, 6, 7, 8, 9)\n",
        "n=(5,6,8,7,96,5,2,74,55)\n",
        "evencount=0\n",
        "oddcount=0\n",
        "for i in n:\n",
        "  if(i%2==0):\n",
        "    evencount=evencount+1\n",
        "  else:\n",
        "    oddcount=oddcount+1\n",
        "print(evencount,oddcount)\n",
        "\n",
        "\n",
        "\n",
        "\n",
        "\n",
        "\n",
        "\n"
      ],
      "metadata": {
        "colab": {
          "base_uri": "https://localhost:8080/"
        },
        "id": "BXhit7lcGoIw",
        "outputId": "3b7159de-255d-4baf-a49c-599658bd2086"
      },
      "execution_count": null,
      "outputs": [
        {
          "output_type": "stream",
          "name": "stdout",
          "text": [
            "5 4\n"
          ]
        }
      ]
    },
    {
      "cell_type": "code",
      "source": [
        "# Write a Python program that prints each item and its corresponding type from the following list.\n",
        "#Sample List : datalist = [1452, 11.23, 1+2j, True, 'w3resource', (0, -1), [5, 12], {\"class\":'V', \"section\":'A'}]\n",
        "\n",
        "datalist= [1452, 11.23, 1+2j, True, 'w3resource', (0, -1), [5, 12], {\"class\":'V', \"section\":'A'}]\n",
        "for i in datalist:\n",
        "  print(type(i))\n",
        "\n",
        "\n",
        "\n"
      ],
      "metadata": {
        "colab": {
          "base_uri": "https://localhost:8080/"
        },
        "id": "GGZf2aAoNqGj",
        "outputId": "40ffe5ec-eab7-4e8d-ebe6-1637e16caadb"
      },
      "execution_count": null,
      "outputs": [
        {
          "output_type": "stream",
          "name": "stdout",
          "text": [
            "<class 'int'>\n",
            "<class 'float'>\n",
            "<class 'complex'>\n",
            "<class 'bool'>\n",
            "<class 'str'>\n",
            "<class 'tuple'>\n",
            "<class 'list'>\n",
            "<class 'dict'>\n"
          ]
        }
      ]
    },
    {
      "cell_type": "code",
      "source": [
        "# write a Python program that prints all the numbers from 0 to 6 except 3 and 6.\n",
        "# Note : Use 'continue' statement.\n",
        "# Expected Output : 0 1 2 4 5\n",
        "\n",
        "for i in range(0,7):\n",
        "  if i==3 or i==6:\n",
        "    continue\n",
        "  print(i,end=\" \")\n",
        "\n"
      ],
      "metadata": {
        "colab": {
          "base_uri": "https://localhost:8080/"
        },
        "id": "NIHfXjvMQsv0",
        "outputId": "accba302-85d7-4f75-dc42-2aa5e186c240"
      },
      "execution_count": null,
      "outputs": [
        {
          "output_type": "stream",
          "name": "stdout",
          "text": [
            "0 1 2 4 5 "
          ]
        }
      ]
    },
    {
      "cell_type": "code",
      "source": [
        "#Write a Python program to get the Fibonacci series between 0 to 50.\n",
        "#Note : The Fibonacci Sequence is the series of numbers :\n",
        "#0, 1, 1, 2, 3, 5, 8, 13, 21, ....\n",
        "#Every next number is found by adding up the two numbers before it.\n",
        "#Expected Output : 1 1 2 3 5 8 13 21 34\n",
        "x,y=0,1\n",
        "\n",
        "while y<50:\n",
        "    print(y)\n",
        "    x,y = y,x+y\n",
        "\t\n",
        "\t\n",
        "\n"
      ],
      "metadata": {
        "colab": {
          "base_uri": "https://localhost:8080/"
        },
        "id": "r2QPOxeM76bs",
        "outputId": "e5bedf1c-4cee-41bc-a632-12b118f0c847"
      },
      "execution_count": null,
      "outputs": [
        {
          "output_type": "stream",
          "name": "stdout",
          "text": [
            "1\n",
            "1\n",
            "2\n",
            "3\n",
            "5\n",
            "8\n",
            "13\n",
            "21\n",
            "34\n"
          ]
        }
      ]
    },
    {
      "cell_type": "code",
      "source": [
        "#  Write a Python program which iterates the integers from 1 to 50. For multiples of three print \"Fizz\" instead of the number and for the multiples of five print \"Buzz\". For numbers which are multiples of both three and five print \"FizzBuzz\".\n",
        "# Sample Output :\n",
        "# fizzbuzz                                  \n",
        "# 1\n",
        "# 2\n",
        "# fizz\n",
        "# 4\n",
        "# buzz\n",
        "\n",
        "for fizzbuzz in range(6):\n",
        "    if fizzbuzz % 3 == 0 and fizzbuzz % 5 == 0:\n",
        "        print(\"fizzbuzz\")\n",
        "        continue\n",
        "    elif fizzbuzz % 3 == 0:\n",
        "        print(\"fizz\")\n",
        "        continue\n",
        "    elif fizzbuzz % 5 == 0:\n",
        "        print(\"buzz\")\n",
        "        continue\n",
        "    print(fizzbuzz)\n",
        "\n",
        "\n",
        "\n",
        "\n",
        "\n",
        "\n",
        "\t\n",
        "\n",
        "\n",
        "\n",
        "\n",
        "\n",
        "\n",
        "\t"
      ],
      "metadata": {
        "colab": {
          "base_uri": "https://localhost:8080/"
        },
        "id": "-y_RdEwKBhvX",
        "outputId": "4594232e-7a97-4d4b-f89d-1a773ee8aa5f"
      },
      "execution_count": null,
      "outputs": [
        {
          "output_type": "stream",
          "name": "stdout",
          "text": [
            "fizzbuzz\n",
            "1\n",
            "2\n",
            "fizz\n",
            "4\n",
            "buzz\n"
          ]
        }
      ]
    }
  ]
}